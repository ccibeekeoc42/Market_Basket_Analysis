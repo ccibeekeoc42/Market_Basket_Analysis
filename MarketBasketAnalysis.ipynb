{
  "nbformat": 4,
  "nbformat_minor": 0,
  "metadata": {
    "colab": {
      "provenance": [],
      "collapsed_sections": []
    },
    "kernelspec": {
      "name": "python3",
      "display_name": "Python 3"
    },
    "language_info": {
      "name": "python"
    }
  },
  "cells": [
    {
      "cell_type": "markdown",
      "source": [
        "#### Importing Necessary Packages"
      ],
      "metadata": {
        "id": "gZ3Lhf5-VdGz"
      }
    },
    {
      "cell_type": "code",
      "execution_count": 73,
      "metadata": {
        "id": "469o7Im0EW3R"
      },
      "outputs": [],
      "source": [
        "import pandas as pd\n",
        "import numpy as np\n",
        "import seaborn as sns\n",
        "import matplotlib.pyplot as plt"
      ]
    },
    {
      "cell_type": "markdown",
      "source": [
        "#### Loading & Preping the Dataset"
      ],
      "metadata": {
        "id": "2tsmxOAiWJV2"
      }
    },
    {
      "cell_type": "code",
      "source": [
        "df = pd.read_csv(\"groceries_dataset.csv\")\n",
        "# checking the state of our data set\n",
        "print(\"Checking the Info in the data ~~~~~~~~~~~~~~~~~~~~~~~~~~~~~~~~~~~~~~~~\")\n",
        "df.info() \n",
        "print(\"\\nChecking for null values ~~~~~~~~~~~~~~~~~~~~~~~~~~~~~~~~~~~~~~~~~~~~~\")\n",
        "df.isnull().sum().sort_values(ascending=False)\n",
        "print(\"\\nChecking the first 3 values of our data~~~~~~~~~~~~~~~~~~~~~~~~~~~~~~~\")\n",
        "print(df.head(3))\n",
        "\n",
        "# Changing the date type in a new column\n",
        "df['date'] = pd.to_datetime(df[\"Date\"])\n",
        "print(\"\\nChecking the Info after type conversion~~~~~~~~~~~~~~~~~~~~~~~~~~~~~~~~\")\n",
        "df.info() "
      ],
      "metadata": {
        "colab": {
          "base_uri": "https://localhost:8080/"
        },
        "id": "bRwPIk0OWI7Z",
        "outputId": "c45dade1-c365-49f3-bee9-0448f8f8c8f1"
      },
      "execution_count": 74,
      "outputs": [
        {
          "output_type": "stream",
          "name": "stdout",
          "text": [
            "Checking the Info in the data ~~~~~~~~~~~~~~~~~~~~~~~~~~~~~~~~~~~~~~~~\n",
            "<class 'pandas.core.frame.DataFrame'>\n",
            "RangeIndex: 38765 entries, 0 to 38764\n",
            "Data columns (total 3 columns):\n",
            " #   Column           Non-Null Count  Dtype \n",
            "---  ------           --------------  ----- \n",
            " 0   Member_number    38765 non-null  int64 \n",
            " 1   Date             38765 non-null  object\n",
            " 2   itemDescription  38765 non-null  object\n",
            "dtypes: int64(1), object(2)\n",
            "memory usage: 908.7+ KB\n",
            "\n",
            "Checking for null values ~~~~~~~~~~~~~~~~~~~~~~~~~~~~~~~~~~~~~~~~~~~~~\n",
            "\n",
            "Checking the first 3 values of our data~~~~~~~~~~~~~~~~~~~~~~~~~~~~~~~\n",
            "   Member_number        Date itemDescription\n",
            "0           1808  21-07-2015  tropical fruit\n",
            "1           2552  05-01-2015      whole milk\n",
            "2           2300  19-09-2015       pip fruit\n",
            "\n",
            "Checking the Info after type conversion~~~~~~~~~~~~~~~~~~~~~~~~~~~~~~~~\n",
            "<class 'pandas.core.frame.DataFrame'>\n",
            "RangeIndex: 38765 entries, 0 to 38764\n",
            "Data columns (total 4 columns):\n",
            " #   Column           Non-Null Count  Dtype         \n",
            "---  ------           --------------  -----         \n",
            " 0   Member_number    38765 non-null  int64         \n",
            " 1   Date             38765 non-null  object        \n",
            " 2   itemDescription  38765 non-null  object        \n",
            " 3   date             38765 non-null  datetime64[ns]\n",
            "dtypes: datetime64[ns](1), int64(1), object(2)\n",
            "memory usage: 1.2+ MB\n"
          ]
        }
      ]
    },
    {
      "cell_type": "markdown",
      "source": [
        "#### Plotting the top 10 sold items"
      ],
      "metadata": {
        "id": "J0LjNFwyb246"
      }
    },
    {
      "cell_type": "code",
      "source": [
        "item_distr = df.groupby(by='itemDescription').size().reset_index(name='Frequency').sort_values(by='Frequency', ascending=False).head(10)\n",
        "\n",
        "bars = item_distr[\"itemDescription\"]\n",
        "height = item_distr[\"Frequency\"]\n",
        "x_pos = np.arange(len(bars))\n",
        "\n",
        "plt.figure(figsize=(16,9))\n",
        "plt.bar(x_pos, height=height, color=(1, 0.1, 0.1, 0.5))\n",
        "plt.title(\"Top 10 Items Sold\", fontsize=20)\n",
        "plt.xlabel(\"Items\", fontsize=16)\n",
        "plt.ylabel(\"Quantity Sold\", fontsize=16)\n",
        "plt.xticks(x_pos, bars)\n",
        "plt.show()"
      ],
      "metadata": {
        "colab": {
          "base_uri": "https://localhost:8080/",
          "height": 577
        },
        "id": "vTzkarlFaWIx",
        "outputId": "86226475-d958-4542-bcf7-e5af4384a62a"
      },
      "execution_count": 75,
      "outputs": [
        {
          "output_type": "display_data",
          "data": {
            "text/plain": [
              "<Figure size 1152x648 with 1 Axes>"
            ],
            "image/png": "[encoded data removed]"
          },
          "metadata": {
            "needs_background": "light"
          }
        }
      ]
    },
    {
      "cell_type": "code",
      "source": [
        "new_df = df.set_index(['date']) # creating dataframe with Date as the index\n",
        "new_df.resample(\"M\")[\"itemDescription\"].count().plot(figsize=(20,8), fontsize=16, grid=True, title='# of Items Sold by Month').set(xlabel=\"date\", ylabel=\"# of item sold\")"
      ],
      "metadata": {
        "colab": {
          "base_uri": "https://localhost:8080/",
          "height": 502
        },
        "id": "MaowdHwJpQwL",
        "outputId": "62b5249a-9135-496d-af14-c24cf29140e9"
      },
      "execution_count": 76,
      "outputs": [
        {
          "output_type": "execute_result",
          "data": {
            "text/plain": [
              "[Text(0, 0.5, '# of item sold'), Text(0.5, 0, 'date')]"
            ]
          },
          "metadata": {},
          "execution_count": 76
        },
        {
          "output_type": "display_data",
          "data": {
            "text/plain": [
              "<Figure size 1440x576 with 1 Axes>"
            ],
            "image/png": "[encoded data removed]"
          },
          "metadata": {
            "needs_background": "light"
          }
        }
      ]
    },
    {
      "cell_type": "markdown",
      "source": [
        "#### Selecting data for Modeling"
      ],
      "metadata": {
        "id": "BTn3Bc-txv1O"
      }
    },
    {
      "cell_type": "code",
      "source": [
        "# sorting by member purchases and removing white spaces\n",
        "customer_items = df[[\"Member_number\", \"itemDescription\"]].sort_values(by=\"Member_number\", ascending=False)\n",
        "customer_items[\"itemDescription\"] = customer_items[\"itemDescription\"].str.strip()\n",
        "customer_items"
      ],
      "metadata": {
        "colab": {
          "base_uri": "https://localhost:8080/",
          "height": 424
        },
        "id": "2nA-2y_NqHxi",
        "outputId": "e03e5e78-fef6-40ff-cdcf-693a71ac85fe"
      },
      "execution_count": 77,
      "outputs": [
        {
          "output_type": "execute_result",
          "data": {
            "text/plain": [
              "       Member_number        itemDescription\n",
              "3578            5000                   soda\n",
              "34885           5000    semi-finished bread\n",
              "11728           5000  fruit/vegetable juice\n",
              "9340            5000           bottled beer\n",
              "19727           5000        root vegetables\n",
              "...              ...                    ...\n",
              "13331           1000             whole milk\n",
              "17778           1000     pickled vegetables\n",
              "6388            1000                sausage\n",
              "20992           1000    semi-finished bread\n",
              "8395            1000             whole milk\n",
              "\n",
              "[38765 rows x 2 columns]"
            ],
            "text/html": [
              "\n",
              "  <div id=\"df-084ed1bf-f895-4966-9ce1-346c4dde7f7a\">\n",
              "    <div class=\"colab-df-container\">\n",
              "      <div>\n",
              "<style scoped>\n",
              "    .dataframe tbody tr th:only-of-type {\n",
              "        vertical-align: middle;\n",
              "    }\n",
              "\n",
              "    .dataframe tbody tr th {\n",
              "        vertical-align: top;\n",
              "    }\n",
              "\n",
              "    .dataframe thead th {\n",
              "        text-align: right;\n",
              "    }\n",
              "</style>\n",
              "<table border=\"1\" class=\"dataframe\">\n",
              "  <thead>\n",
              "    <tr style=\"text-align: right;\">\n",
              "      <th></th>\n",
              "      <th>Member_number</th>\n",
              "      <th>itemDescription</th>\n",
              "    </tr>\n",
              "  </thead>\n",
              "  <tbody>\n",
              "    <tr>\n",
              "      <th>3578</th>\n",
              "      <td>5000</td>\n",
              "      <td>soda</td>\n",
              "    </tr>\n",
              "    <tr>\n",
              "      <th>34885</th>\n",
              "      <td>5000</td>\n",
              "      <td>semi-finished bread</td>\n",
              "    </tr>\n",
              "    <tr>\n",
              "      <th>11728</th>\n",
              "      <td>5000</td>\n",
              "      <td>fruit/vegetable juice</td>\n",
              "    </tr>\n",
              "    <tr>\n",
              "      <th>9340</th>\n",
              "      <td>5000</td>\n",
              "      <td>bottled beer</td>\n",
              "    </tr>\n",
              "    <tr>\n",
              "      <th>19727</th>\n",
              "      <td>5000</td>\n",
              "      <td>root vegetables</td>\n",
              "    </tr>\n",
              "    <tr>\n",
              "      <th>...</th>\n",
              "      <td>...</td>\n",
              "      <td>...</td>\n",
              "    </tr>\n",
              "    <tr>\n",
              "      <th>13331</th>\n",
              "      <td>1000</td>\n",
              "      <td>whole milk</td>\n",
              "    </tr>\n",
              "    <tr>\n",
              "      <th>17778</th>\n",
              "      <td>1000</td>\n",
              "      <td>pickled vegetables</td>\n",
              "    </tr>\n",
              "    <tr>\n",
              "      <th>6388</th>\n",
              "      <td>1000</td>\n",
              "      <td>sausage</td>\n",
              "    </tr>\n",
              "    <tr>\n",
              "      <th>20992</th>\n",
              "      <td>1000</td>\n",
              "      <td>semi-finished bread</td>\n",
              "    </tr>\n",
              "    <tr>\n",
              "      <th>8395</th>\n",
              "      <td>1000</td>\n",
              "      <td>whole milk</td>\n",
              "    </tr>\n",
              "  </tbody>\n",
              "</table>\n",
              "<p>38765 rows × 2 columns</p>\n",
              "</div>\n",
              "      <button class=\"colab-df-convert\" onclick=\"convertToInteractive('df-084ed1bf-f895-4966-9ce1-346c4dde7f7a')\"\n",
              "              title=\"Convert this dataframe to an interactive table.\"\n",
              "              style=\"display:none;\">\n",
              "        \n",
              "  <svg xmlns=\"http://www.w3.org/2000/svg\" height=\"24px\"viewBox=\"0 0 24 24\"\n",
              "       width=\"24px\">\n",
              "    <path d=\"M0 0h24v24H0V0z\" fill=\"none\"/>\n",
              "    <path d=\"M18.56 5.44l.94 2.06.94-2.06 2.06-.94-2.06-.94-.94-2.06-.94 2.06-2.06.94zm-11 1L8.5 8.5l.94-2.06 2.06-.94-2.06-.94L8.5 2.5l-.94 2.06-2.06.94zm10 10l.94 2.06.94-2.06 2.06-.94-2.06-.94-.94-2.06-.94 2.06-2.06.94z\"/><path d=\"M17.41 7.96l-1.37-1.37c-.4-.4-.92-.59-1.43-.59-.52 0-1.04.2-1.43.59L10.3 9.45l-7.72 7.72c-.78.78-.78 2.05 0 2.83L4 21.41c.39.39.9.59 1.41.59.51 0 1.02-.2 1.41-.59l7.78-7.78 2.81-2.81c.8-.78.8-2.07 0-2.86zM5.41 20L4 18.59l7.72-7.72 1.47 1.35L5.41 20z\"/>\n",
              "  </svg>\n",
              "      </button>\n",
              "      \n",
              "  <style>\n",
              "    .colab-df-container {\n",
              "      display:flex;\n",
              "      flex-wrap:wrap;\n",
              "      gap: 12px;\n",
              "    }\n",
              "\n",
              "    .colab-df-convert {\n",
              "      background-color: #E8F0FE;\n",
              "      border: none;\n",
              "      border-radius: 50%;\n",
              "      cursor: pointer;\n",
              "      display: none;\n",
              "      fill: #1967D2;\n",
              "      height: 32px;\n",
              "      padding: 0 0 0 0;\n",
              "      width: 32px;\n",
              "    }\n",
              "\n",
              "    .colab-df-convert:hover {\n",
              "      background-color: #E2EBFA;\n",
              "      box-shadow: 0px 1px 2px rgba(60, 64, 67, 0.3), 0px 1px 3px 1px rgba(60, 64, 67, 0.15);\n",
              "      fill: #174EA6;\n",
              "    }\n",
              "\n",
              "    [theme=dark] .colab-df-convert {\n",
              "      background-color: #3B4455;\n",
              "      fill: #D2E3FC;\n",
              "    }\n",
              "\n",
              "    [theme=dark] .colab-df-convert:hover {\n",
              "      background-color: #434B5C;\n",
              "      box-shadow: 0px 1px 3px 1px rgba(0, 0, 0, 0.15);\n",
              "      filter: drop-shadow(0px 1px 2px rgba(0, 0, 0, 0.3));\n",
              "      fill: #FFFFFF;\n",
              "    }\n",
              "  </style>\n",
              "\n",
              "      <script>\n",
              "        const buttonEl =\n",
              "          document.querySelector('#df-084ed1bf-f895-4966-9ce1-346c4dde7f7a button.colab-df-convert');\n",
              "        buttonEl.style.display =\n",
              "          google.colab.kernel.accessAllowed ? 'block' : 'none';\n",
              "\n",
              "        async function convertToInteractive(key) {\n",
              "          const element = document.querySelector('#df-084ed1bf-f895-4966-9ce1-346c4dde7f7a');\n",
              "          const dataTable =\n",
              "            await google.colab.kernel.invokeFunction('convertToInteractive',\n",
              "                                                     [key], {});\n",
              "          if (!dataTable) return;\n",
              "\n",
              "          const docLinkHtml = 'Like what you see? Visit the ' +\n",
              "            '<a target=\"_blank\" href=https://colab.research.google.com/notebooks/data_table.ipynb>data table notebook</a>'\n",
              "            + ' to learn more about interactive tables.';\n",
              "          element.innerHTML = '';\n",
              "          dataTable['output_type'] = 'display_data';\n",
              "          await google.colab.output.renderOutput(dataTable, element);\n",
              "          const docLink = document.createElement('div');\n",
              "          docLink.innerHTML = docLinkHtml;\n",
              "          element.appendChild(docLink);\n",
              "        }\n",
              "      </script>\n",
              "    </div>\n",
              "  </div>\n",
              "  "
            ]
          },
          "metadata": {},
          "execution_count": 77
        }
      ]
    },
    {
      "cell_type": "code",
      "source": [
        "# changing the items to list format\n",
        "transactions = [a[1][\"itemDescription\"].tolist() for a in list(customer_items.groupby([\"Member_number\"]))]\n",
        "transactions[0] # items bought by first customer"
      ],
      "metadata": {
        "colab": {
          "base_uri": "https://localhost:8080/"
        },
        "id": "Z3ZLe72Xz1IC",
        "outputId": "f41f925b-01be-45a3-d57e-9dce125a17f6"
      },
      "execution_count": 78,
      "outputs": [
        {
          "output_type": "execute_result",
          "data": {
            "text/plain": [
              "['misc. beverages',\n",
              " 'sausage',\n",
              " 'soda',\n",
              " 'yogurt',\n",
              " 'salty snack',\n",
              " 'pastry',\n",
              " 'canned beer',\n",
              " 'hygiene articles',\n",
              " 'whole milk',\n",
              " 'pickled vegetables',\n",
              " 'sausage',\n",
              " 'semi-finished bread',\n",
              " 'whole milk']"
            ]
          },
          "metadata": {},
          "execution_count": 78
        }
      ]
    },
    {
      "cell_type": "markdown",
      "source": [
        "#### Implementing the Apyori Model"
      ],
      "metadata": {
        "id": "1iBo7dfNFBZj"
      }
    },
    {
      "cell_type": "code",
      "source": [
        "#!pip install apyori\n",
        "from apyori import apriori\n",
        "rules = apriori(transactions=transactions, min_support=0.002, min_confidence=0.05, min_lift=3, min_length=2)\n",
        "results = list(rules)\n",
        "\n",
        "def formatResults(results):\n",
        "  '''Formats the results'''\n",
        "  lhs = [tuple(result[2][0][0])[0] for result in results]\n",
        "  rhs = [tuple(result[2][0][1])[0] for result in results]\n",
        "  supports = [result[1] for result in results]\n",
        "  confidences = [result[2][0][2] for result in results]\n",
        "  lifts = [result[2][0][3] for result in results]\n",
        "  return list(zip(lhs, rhs, supports, confidences, lifts))\n",
        "\n",
        "results_df = pd.DataFrame(formatResults(results), columns = [\"Left Hand Side\", \"Right Hand Side\", \"Support\", \"Confidence\", \"Lifts\"])\n",
        "results_df"
      ],
      "metadata": {
        "colab": {
          "base_uri": "https://localhost:8080/",
          "height": 424
        },
        "id": "FeFjEkhaFFb6",
        "outputId": "40c0a749-e635-46a1-896a-db0f74a4ce79"
      },
      "execution_count": 79,
      "outputs": [
        {
          "output_type": "execute_result",
          "data": {
            "text/plain": [
              "        Left Hand Side Right Hand Side   Support  Confidence     Lifts\n",
              "0       kitchen towels        UHT-milk  0.002309    0.300000  3.821569\n",
              "1      potato products            beef  0.002565    0.454545  3.802185\n",
              "2         canned fruit          coffee  0.002309    0.428571  3.728954\n",
              "3         meat spreads   domestic eggs  0.003592    0.400000  3.004239\n",
              "4                flour      mayonnaise  0.002309    0.063380  3.338599\n",
              "...                ...             ...       ...         ...       ...\n",
              "5341           sausage      rolls/buns  0.002565    0.052083  5.800595\n",
              "5342        rolls/buns      whole milk  0.002309    0.062937  3.661622\n",
              "5343  other vegetables      whole milk  0.002052    0.079208  4.608246\n",
              "5344        rolls/buns      whole milk  0.002052    0.087912  5.114647\n",
              "5345           sausage          yogurt  0.002052    0.050633  5.482419\n",
              "\n",
              "[5346 rows x 5 columns]"
            ],
            "text/html": [
              "\n",
              "  <div id=\"df-4e47af44-454d-4c2a-b7fa-91c4bd25e02f\">\n",
              "    <div class=\"colab-df-container\">\n",
              "      <div>\n",
              "<style scoped>\n",
              "    .dataframe tbody tr th:only-of-type {\n",
              "        vertical-align: middle;\n",
              "    }\n",
              "\n",
              "    .dataframe tbody tr th {\n",
              "        vertical-align: top;\n",
              "    }\n",
              "\n",
              "    .dataframe thead th {\n",
              "        text-align: right;\n",
              "    }\n",
              "</style>\n",
              "<table border=\"1\" class=\"dataframe\">\n",
              "  <thead>\n",
              "    <tr style=\"text-align: right;\">\n",
              "      <th></th>\n",
              "      <th>Left Hand Side</th>\n",
              "      <th>Right Hand Side</th>\n",
              "      <th>Support</th>\n",
              "      <th>Confidence</th>\n",
              "      <th>Lifts</th>\n",
              "    </tr>\n",
              "  </thead>\n",
              "  <tbody>\n",
              "    <tr>\n",
              "      <th>0</th>\n",
              "      <td>kitchen towels</td>\n",
              "      <td>UHT-milk</td>\n",
              "      <td>0.002309</td>\n",
              "      <td>0.300000</td>\n",
              "      <td>3.821569</td>\n",
              "    </tr>\n",
              "    <tr>\n",
              "      <th>1</th>\n",
              "      <td>potato products</td>\n",
              "      <td>beef</td>\n",
              "      <td>0.002565</td>\n",
              "      <td>0.454545</td>\n",
              "      <td>3.802185</td>\n",
              "    </tr>\n",
              "    <tr>\n",
              "      <th>2</th>\n",
              "      <td>canned fruit</td>\n",
              "      <td>coffee</td>\n",
              "      <td>0.002309</td>\n",
              "      <td>0.428571</td>\n",
              "      <td>3.728954</td>\n",
              "    </tr>\n",
              "    <tr>\n",
              "      <th>3</th>\n",
              "      <td>meat spreads</td>\n",
              "      <td>domestic eggs</td>\n",
              "      <td>0.003592</td>\n",
              "      <td>0.400000</td>\n",
              "      <td>3.004239</td>\n",
              "    </tr>\n",
              "    <tr>\n",
              "      <th>4</th>\n",
              "      <td>flour</td>\n",
              "      <td>mayonnaise</td>\n",
              "      <td>0.002309</td>\n",
              "      <td>0.063380</td>\n",
              "      <td>3.338599</td>\n",
              "    </tr>\n",
              "    <tr>\n",
              "      <th>...</th>\n",
              "      <td>...</td>\n",
              "      <td>...</td>\n",
              "      <td>...</td>\n",
              "      <td>...</td>\n",
              "      <td>...</td>\n",
              "    </tr>\n",
              "    <tr>\n",
              "      <th>5341</th>\n",
              "      <td>sausage</td>\n",
              "      <td>rolls/buns</td>\n",
              "      <td>0.002565</td>\n",
              "      <td>0.052083</td>\n",
              "      <td>5.800595</td>\n",
              "    </tr>\n",
              "    <tr>\n",
              "      <th>5342</th>\n",
              "      <td>rolls/buns</td>\n",
              "      <td>whole milk</td>\n",
              "      <td>0.002309</td>\n",
              "      <td>0.062937</td>\n",
              "      <td>3.661622</td>\n",
              "    </tr>\n",
              "    <tr>\n",
              "      <th>5343</th>\n",
              "      <td>other vegetables</td>\n",
              "      <td>whole milk</td>\n",
              "      <td>0.002052</td>\n",
              "      <td>0.079208</td>\n",
              "      <td>4.608246</td>\n",
              "    </tr>\n",
              "    <tr>\n",
              "      <th>5344</th>\n",
              "      <td>rolls/buns</td>\n",
              "      <td>whole milk</td>\n",
              "      <td>0.002052</td>\n",
              "      <td>0.087912</td>\n",
              "      <td>5.114647</td>\n",
              "    </tr>\n",
              "    <tr>\n",
              "      <th>5345</th>\n",
              "      <td>sausage</td>\n",
              "      <td>yogurt</td>\n",
              "      <td>0.002052</td>\n",
              "      <td>0.050633</td>\n",
              "      <td>5.482419</td>\n",
              "    </tr>\n",
              "  </tbody>\n",
              "</table>\n",
              "<p>5346 rows × 5 columns</p>\n",
              "</div>\n",
              "      <button class=\"colab-df-convert\" onclick=\"convertToInteractive('df-4e47af44-454d-4c2a-b7fa-91c4bd25e02f')\"\n",
              "              title=\"Convert this dataframe to an interactive table.\"\n",
              "              style=\"display:none;\">\n",
              "        \n",
              "  <svg xmlns=\"http://www.w3.org/2000/svg\" height=\"24px\"viewBox=\"0 0 24 24\"\n",
              "       width=\"24px\">\n",
              "    <path d=\"M0 0h24v24H0V0z\" fill=\"none\"/>\n",
              "    <path d=\"M18.56 5.44l.94 2.06.94-2.06 2.06-.94-2.06-.94-.94-2.06-.94 2.06-2.06.94zm-11 1L8.5 8.5l.94-2.06 2.06-.94-2.06-.94L8.5 2.5l-.94 2.06-2.06.94zm10 10l.94 2.06.94-2.06 2.06-.94-2.06-.94-.94-2.06-.94 2.06-2.06.94z\"/><path d=\"M17.41 7.96l-1.37-1.37c-.4-.4-.92-.59-1.43-.59-.52 0-1.04.2-1.43.59L10.3 9.45l-7.72 7.72c-.78.78-.78 2.05 0 2.83L4 21.41c.39.39.9.59 1.41.59.51 0 1.02-.2 1.41-.59l7.78-7.78 2.81-2.81c.8-.78.8-2.07 0-2.86zM5.41 20L4 18.59l7.72-7.72 1.47 1.35L5.41 20z\"/>\n",
              "  </svg>\n",
              "      </button>\n",
              "      \n",
              "  <style>\n",
              "    .colab-df-container {\n",
              "      display:flex;\n",
              "      flex-wrap:wrap;\n",
              "      gap: 12px;\n",
              "    }\n",
              "\n",
              "    .colab-df-convert {\n",
              "      background-color: #E8F0FE;\n",
              "      border: none;\n",
              "      border-radius: 50%;\n",
              "      cursor: pointer;\n",
              "      display: none;\n",
              "      fill: #1967D2;\n",
              "      height: 32px;\n",
              "      padding: 0 0 0 0;\n",
              "      width: 32px;\n",
              "    }\n",
              "\n",
              "    .colab-df-convert:hover {\n",
              "      background-color: #E2EBFA;\n",
              "      box-shadow: 0px 1px 2px rgba(60, 64, 67, 0.3), 0px 1px 3px 1px rgba(60, 64, 67, 0.15);\n",
              "      fill: #174EA6;\n",
              "    }\n",
              "\n",
              "    [theme=dark] .colab-df-convert {\n",
              "      background-color: #3B4455;\n",
              "      fill: #D2E3FC;\n",
              "    }\n",
              "\n",
              "    [theme=dark] .colab-df-convert:hover {\n",
              "      background-color: #434B5C;\n",
              "      box-shadow: 0px 1px 3px 1px rgba(0, 0, 0, 0.15);\n",
              "      filter: drop-shadow(0px 1px 2px rgba(0, 0, 0, 0.3));\n",
              "      fill: #FFFFFF;\n",
              "    }\n",
              "  </style>\n",
              "\n",
              "      <script>\n",
              "        const buttonEl =\n",
              "          document.querySelector('#df-4e47af44-454d-4c2a-b7fa-91c4bd25e02f button.colab-df-convert');\n",
              "        buttonEl.style.display =\n",
              "          google.colab.kernel.accessAllowed ? 'block' : 'none';\n",
              "\n",
              "        async function convertToInteractive(key) {\n",
              "          const element = document.querySelector('#df-4e47af44-454d-4c2a-b7fa-91c4bd25e02f');\n",
              "          const dataTable =\n",
              "            await google.colab.kernel.invokeFunction('convertToInteractive',\n",
              "                                                     [key], {});\n",
              "          if (!dataTable) return;\n",
              "\n",
              "          const docLinkHtml = 'Like what you see? Visit the ' +\n",
              "            '<a target=\"_blank\" href=https://colab.research.google.com/notebooks/data_table.ipynb>data table notebook</a>'\n",
              "            + ' to learn more about interactive tables.';\n",
              "          element.innerHTML = '';\n",
              "          dataTable['output_type'] = 'display_data';\n",
              "          await google.colab.output.renderOutput(dataTable, element);\n",
              "          const docLink = document.createElement('div');\n",
              "          docLink.innerHTML = docLinkHtml;\n",
              "          element.appendChild(docLink);\n",
              "        }\n",
              "      </script>\n",
              "    </div>\n",
              "  </div>\n",
              "  "
            ]
          },
          "metadata": {},
          "execution_count": 79
        }
      ]
    },
    {
      "cell_type": "markdown",
      "source": [
        "###### credits: https://www.youtube.com/watch?v=aqsa-gO_aq4&t=175s"
      ],
      "metadata": {
        "id": "S3EiPf_zUAxQ"
      }
    }
  ]
}